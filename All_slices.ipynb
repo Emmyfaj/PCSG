{
  "nbformat": 4,
  "nbformat_minor": 0,
  "metadata": {
    "colab": {
      "provenance": [],
      "mount_file_id": "1kGg-Aj5U4n_PE4SsXpiA8XbEitPOS2Hn",
      "authorship_tag": "ABX9TyN1N/muGSMoQKYR1FChlHAj",
      "include_colab_link": true
    },
    "kernelspec": {
      "name": "python3",
      "display_name": "Python 3"
    },
    "language_info": {
      "name": "python"
    }
  },
  "cells": [
    {
      "cell_type": "markdown",
      "metadata": {
        "id": "view-in-github",
        "colab_type": "text"
      },
      "source": [
        "<a href=\"https://colab.research.google.com/github/Emmyfaj/PCSG/blob/main/All_slices.ipynb\" target=\"_parent\"><img src=\"https://colab.research.google.com/assets/colab-badge.svg\" alt=\"Open In Colab\"/></a>"
      ]
    },
    {
      "cell_type": "code",
      "execution_count": null,
      "metadata": {
        "id": "LscU0W8y7rQb"
      },
      "outputs": [],
      "source": [
        "import tensorflow as tf\n",
        "import numpy as np\n",
        "import matplotlib.pyplot as plt\n"
      ]
    },
    {
      "cell_type": "code",
      "source": [
        "# Step 2: Load the dataset\n",
        "train_datagen = tf.keras.preprocessing.image.ImageDataGenerator(rescale=1./255, validation_split=0.2)\n",
        "\n",
        "train_generator = train_datagen.flow_from_directory(\n",
        "        '/content/drive/MyDrive/Dataset/All Slices',\n",
        "        target_size=(224, 224),\n",
        "        batch_size=32,\n",
        "        class_mode='categorical',\n",
        "        subset='training')\n",
        "\n",
        "val_generator = train_datagen.flow_from_directory(\n",
        "        '/content/drive/MyDrive/Dataset/All Slices',\n",
        "        target_size=(224, 224),\n",
        "        batch_size=32,\n",
        "        class_mode='categorical',\n",
        "        subset='validation')\n"
      ],
      "metadata": {
        "colab": {
          "base_uri": "https://localhost:8080/"
        },
        "id": "_a6A5T4L_44E",
        "outputId": "3115e0e7-3e6b-4e68-b14c-06f26915beea"
      },
      "execution_count": null,
      "outputs": [
        {
          "output_type": "stream",
          "name": "stdout",
          "text": [
            "Found 868 images belonging to 3 classes.\n",
            "Found 215 images belonging to 3 classes.\n"
          ]
        }
      ]
    },
    {
      "cell_type": "code",
      "source": [
        "model = tf.keras.Sequential([\n",
        "    tf.keras.layers.Conv2D(32, (3,3), activation='relu', input_shape=(224, 224, 3)),\n",
        "    tf.keras.layers.MaxPooling2D((2,2)),\n",
        "    tf.keras.layers.Conv2D(64, (3,3), activation='relu'),\n",
        "    tf.keras.layers.MaxPooling2D((2,2)),\n",
        "    tf.keras.layers.Conv2D(128, (3,3), activation='relu'),\n",
        "    tf.keras.layers.MaxPooling2D((2,2)),\n",
        "    tf.keras.layers.Flatten(),\n",
        "    tf.keras.layers.Dense(64, activation='relu'),\n",
        "    tf.keras.layers.Dense(3, activation='softmax')\n",
        "])\n"
      ],
      "metadata": {
        "id": "4mAdK8txCD5X"
      },
      "execution_count": null,
      "outputs": []
    },
    {
      "cell_type": "code",
      "source": [
        "model.compile(optimizer='adam', loss='categorical_crossentropy', metrics=['accuracy'])"
      ],
      "metadata": {
        "id": "5wCVu2kLS-7Q"
      },
      "execution_count": null,
      "outputs": []
    },
    {
      "cell_type": "code",
      "source": [
        "# Step 5: Train the model\n",
        "history = model.fit(\n",
        "      train_generator,\n",
        "      epochs=10,\n",
        "      validation_data=val_generator,\n",
        "      verbose=1)"
      ],
      "metadata": {
        "colab": {
          "base_uri": "https://localhost:8080/"
        },
        "id": "NCu1k_FZvkkb",
        "outputId": "ec7bc6aa-4701-4a2d-9d49-43fa03b01203"
      },
      "execution_count": null,
      "outputs": [
        {
          "output_type": "stream",
          "name": "stdout",
          "text": [
            "Epoch 1/10\n",
            "28/28 [==============================] - 213s 7s/step - loss: 0.9665 - accuracy: 0.5899 - val_loss: 1.3685 - val_accuracy: 0.2651\n",
            "Epoch 2/10\n",
            "28/28 [==============================] - 110s 4s/step - loss: 0.1321 - accuracy: 0.9724 - val_loss: 2.4657 - val_accuracy: 0.4698\n",
            "Epoch 3/10\n",
            "28/28 [==============================] - 110s 4s/step - loss: 0.0638 - accuracy: 0.9770 - val_loss: 4.0000 - val_accuracy: 0.4093\n",
            "Epoch 4/10\n",
            "28/28 [==============================] - 114s 4s/step - loss: 0.0175 - accuracy: 0.9965 - val_loss: 5.8068 - val_accuracy: 0.3953\n",
            "Epoch 5/10\n",
            "28/28 [==============================] - 107s 4s/step - loss: 0.0070 - accuracy: 0.9977 - val_loss: 6.5215 - val_accuracy: 0.4093\n",
            "Epoch 6/10\n",
            "28/28 [==============================] - 108s 4s/step - loss: 0.0047 - accuracy: 0.9988 - val_loss: 6.7086 - val_accuracy: 0.4093\n",
            "Epoch 7/10\n",
            "28/28 [==============================] - 116s 4s/step - loss: 0.0023 - accuracy: 1.0000 - val_loss: 7.7174 - val_accuracy: 0.4047\n",
            "Epoch 8/10\n",
            "28/28 [==============================] - 115s 4s/step - loss: 0.0028 - accuracy: 1.0000 - val_loss: 7.1002 - val_accuracy: 0.3953\n",
            "Epoch 9/10\n",
            "28/28 [==============================] - 117s 4s/step - loss: 0.0285 - accuracy: 0.9919 - val_loss: 2.7925 - val_accuracy: 0.4047\n",
            "Epoch 10/10\n",
            "28/28 [==============================] - 112s 4s/step - loss: 0.0066 - accuracy: 0.9988 - val_loss: 5.7109 - val_accuracy: 0.4093\n"
          ]
        }
      ]
    },
    {
      "cell_type": "code",
      "source": [
        "# Save the model\n",
        "model.save('model.h5')\n"
      ],
      "metadata": {
        "id": "KRco2Ws-Y6kg"
      },
      "execution_count": null,
      "outputs": []
    },
    {
      "cell_type": "code",
      "source": [
        "!ls\n"
      ],
      "metadata": {
        "colab": {
          "base_uri": "https://localhost:8080/"
        },
        "id": "PT0bNZD3Y750",
        "outputId": "7159a551-4a9b-488e-fcb7-4bc221c8db85"
      },
      "execution_count": null,
      "outputs": [
        {
          "output_type": "stream",
          "name": "stdout",
          "text": [
            "drive  model.h5  sample_data\n"
          ]
        }
      ]
    },
    {
      "cell_type": "code",
      "source": [
        "model.save('model.h5')\n"
      ],
      "metadata": {
        "id": "8PpXNhGzgRR6"
      },
      "execution_count": null,
      "outputs": []
    },
    {
      "cell_type": "code",
      "source": [
        "from tensorflow.keras.models import load_model\n",
        "model = load_model('model.h5')\n"
      ],
      "metadata": {
        "id": "X6VS4lHagS2i"
      },
      "execution_count": null,
      "outputs": []
    },
    {
      "cell_type": "code",
      "source": [
        "import tensorflow as tf\n",
        "\n",
        "# Convert the model to TensorFlow Lite format\n",
        "converter = tf.lite.TFLiteConverter.from_keras_model(model)\n",
        "tflite_model = converter.convert()\n",
        "\n",
        "# Save the model in TensorFlow Lite format\n",
        "with open('model.tflite', 'wb') as f:\n",
        "    f.write(tflite_model)\n"
      ],
      "metadata": {
        "colab": {
          "base_uri": "https://localhost:8080/"
        },
        "id": "mx2ZvMXZhT38",
        "outputId": "876235f7-3b08-4c50-f84d-888e40303858"
      },
      "execution_count": null,
      "outputs": [
        {
          "output_type": "stream",
          "name": "stderr",
          "text": [
            "WARNING:absl:Found untraced functions such as _jit_compiled_convolution_op, _jit_compiled_convolution_op, _jit_compiled_convolution_op, _update_step_xla while saving (showing 4 of 4). These functions will not be directly callable after loading.\n"
          ]
        }
      ]
    }
  ]
}